{
 "cells": [
  {
   "cell_type": "markdown",
   "metadata": {},
   "source": [
    "# Taller 1"
   ]
  },
  {
   "cell_type": "markdown",
   "metadata": {},
   "source": [
    "## Visualización 1"
   ]
  },
  {
   "cell_type": "markdown",
   "metadata": {},
   "source": [
    "![title](https://infobeautiful4.s3.amazonaws.com/2011/01/2552_Rising-Sea-Levels-1.png)"
   ]
  },
  {
   "cell_type": "markdown",
   "metadata": {},
   "source": [
    "### ¿Que?"
   ]
  },
  {
   "cell_type": "markdown",
   "metadata": {},
   "source": [
    "Los datos que se muestran son la estimación de como el nivel del agua estará aumentando al paso del tiempo inundando ciudades, se tienen datos númericos que son el nivel de aumento del agua y el tiempo en el que aumenta este mismo."
   ]
  },
  {
   "cell_type": "markdown",
   "metadata": {},
   "source": [
    "### ¿Por que?"
   ]
  },
  {
   "cell_type": "markdown",
   "metadata": {},
   "source": [
    "Se quiere visualizar de manera gráfica la estimación del nivel del agua y del tiempo, se muestra de manera ascendente debido a que se quiere presentar el incremento del nivel del agua a traves del tiempo. Se usan ciudades con el fin de que el usuario se le facilite comprender el nivel al que se va incrementando el agua. "
   ]
  },
  {
   "cell_type": "markdown",
   "metadata": {},
   "source": [
    "### ¿Como?"
   ]
  },
  {
   "cell_type": "markdown",
   "metadata": {},
   "source": [
    "La visualización no requiere de ninguna interacción debido a que gráficamente se marcan los niveles del agua con distintos tonos de azul y cada uno tiene el aumento del nivel del agua con respecto al año en el que se hizo la visualización."
   ]
  },
  {
   "cell_type": "markdown",
   "metadata": {},
   "source": [
    "### Marca"
   ]
  },
  {
   "cell_type": "markdown",
   "metadata": {},
   "source": [
    "Las marcas son por área, ya que las zonas rectangulares separadas y cada uno contiene una ciudad o el punto más alto de alguna ciudad y tambien se contienen los niveles del agua y el paso del tiempo."
   ]
  },
  {
   "cell_type": "markdown",
   "metadata": {},
   "source": [
    "### Canal"
   ]
  },
  {
   "cell_type": "markdown",
   "metadata": {},
   "source": [
    "El canal de esta visualización es la degradación monocromatica del azul con el fin de que quede claro el aumento del nivel del agua siendo de manera ascendente de azul oscuro a azul claro."
   ]
  },
  {
   "cell_type": "markdown",
   "metadata": {},
   "source": [
    "### Reglas generales"
   ]
  },
  {
   "cell_type": "markdown",
   "metadata": {},
   "source": [
    "La visualización 2D que se enseña necesita el factor de las ciudades que se inundan a medida que crece ya que si no es por estas los datos pueden presentarse en una lista donde se indique el avance del tiempo y el aumento del nivel del agua en ese mismo año. "
   ]
  },
  {
   "cell_type": "markdown",
   "metadata": {},
   "source": [
    "### Mejoras posibles"
   ]
  },
  {
   "cell_type": "markdown",
   "metadata": {},
   "source": [
    "La mejora que sugiero es en la marca que en mi opinión es indicada para mostrar el crecimiento del nivel del agua pero lo que sugiero es que a medida que crece el nivel del agua se represente una sola ciudad por metro de crecimiento para que el concepto del incremento del nivel del agua sea mejor representado y por otro lado el salto de 8 métros a 20 métros es demasiado grande teniendo en cuenta que se pudieron incluir más puntos medios."
   ]
  },
  {
   "cell_type": "markdown",
   "metadata": {},
   "source": [
    "### Fuente"
   ]
  },
  {
   "cell_type": "markdown",
   "metadata": {},
   "source": [
    "https://informationisbeautiful.net/visualizations/when-sea-levels-attack-2/ Research – David McCandless   Illustration – Joe Swainson, Laura Sullivan, Fabio Bergamaschi"
   ]
  },
  {
   "cell_type": "markdown",
   "metadata": {},
   "source": [
    "# Visualización 2"
   ]
  },
  {
   "cell_type": "markdown",
   "metadata": {},
   "source": [
    "![title](https://infobeautiful4.s3.amazonaws.com/2010/10/2552_Varieties-of-Intimate-Relationship_Nov-2016.png)"
   ]
  },
  {
   "cell_type": "markdown",
   "metadata": {},
   "source": [
    "### ¿Que?"
   ]
  },
  {
   "cell_type": "markdown",
   "metadata": {},
   "source": [
    "Los datos que se muestra son categoricos ordinales debido a que hay niveles de orden superior de los cuales se derivan los niveles de orden inferior que en menor medida son subcategorias de los de orden superior, y se quiere relacionar cada una de las variedades de relaciones intimas. "
   ]
  },
  {
   "cell_type": "markdown",
   "metadata": {},
   "source": [
    "### ¿ Por que ?"
   ]
  },
  {
   "cell_type": "markdown",
   "metadata": {},
   "source": [
    "El usuario requiere ver como se relacionan los varios tipos de relaciones intimas, por lo que se requiere presentar un mapa de redes para poder saber en que puntos las categorias mayores se cruzan en menores niveles."
   ]
  },
  {
   "cell_type": "markdown",
   "metadata": {},
   "source": [
    "### ¿Como?"
   ]
  },
  {
   "cell_type": "markdown",
   "metadata": {},
   "source": [
    "La visualización no requiere de interacciones con el usuario debido a que el diagrama de red es el indicado para representar las posibles relaciones en niveles inferiores de los tipos de relaciones."
   ]
  },
  {
   "cell_type": "markdown",
   "metadata": {},
   "source": [
    "### Marca"
   ]
  },
  {
   "cell_type": "markdown",
   "metadata": {},
   "source": [
    "La marca de esta visualización es de conexiones ya que su idea es la de relacionar y encontrar que tipo de relaciones que se derivan de las principales y saber cuales se encuentran en el punto medio que es el matrimonio."
   ]
  },
  {
   "cell_type": "markdown",
   "metadata": {},
   "source": [
    "### Canal"
   ]
  },
  {
   "cell_type": "markdown",
   "metadata": {},
   "source": [
    "El canal es el de colores con el fin de que el usuario no pierda la linea de la categoria principal de la que salen sus derivados y como es que se cruzan."
   ]
  },
  {
   "cell_type": "markdown",
   "metadata": {},
   "source": [
    "### Reglas generales"
   ]
  },
  {
   "cell_type": "markdown",
   "metadata": {},
   "source": [
    "La visualización 2D esta justificada ya que lo que se tienen categorias que se ramifican en muchas más por lo que para el usuario es facil poder leer y entender la visualización."
   ]
  },
  {
   "cell_type": "markdown",
   "metadata": {},
   "source": [
    "### Mejoras posibles"
   ]
  },
  {
   "cell_type": "markdown",
   "metadata": {},
   "source": [
    "En aspectos generales esta bien debido a que los colores para cada categoria contrastan entre si, pero lo que sugeriria es que las categorias que se cruzan deberian ser ya sea de una degradación entre los colores de la categoría o de un color diferente con el que se perciba la combinación"
   ]
  },
  {
   "cell_type": "markdown",
   "metadata": {},
   "source": [
    "### Fuente"
   ]
  },
  {
   "cell_type": "markdown",
   "metadata": {},
   "source": [
    "https://informationisbeautiful.net/visualizations/the-varieties-of-intimate-relationship/ RESEARCH & DESIGN: David McCandless & Laura Sullivan   ADDITIONAL DESIGN: Matt Hancock @ Pelican Jigsaw"
   ]
  }
 ],
 "metadata": {
  "kernelspec": {
   "display_name": "Python 3",
   "language": "python",
   "name": "python3"
  },
  "language_info": {
   "codemirror_mode": {
    "name": "ipython",
    "version": 3
   },
   "file_extension": ".py",
   "mimetype": "text/x-python",
   "name": "python",
   "nbconvert_exporter": "python",
   "pygments_lexer": "ipython3",
   "version": "3.8.5"
  }
 },
 "nbformat": 4,
 "nbformat_minor": 4
}
